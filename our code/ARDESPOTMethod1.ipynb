{
 "cells": [
  {
   "cell_type": "code",
   "execution_count": 1,
   "metadata": {},
   "outputs": [
    {
     "name": "stderr",
     "output_type": "stream",
     "text": [
      "┌ Info: Recompiling stale cache file /Users/cfurrer/.julia/compiled/v1.0/AA228FinalProject/uFJfC.ji for AA228FinalProject [fe2df5ea-4d44-4e5a-a895-9dbc87b19b37]\n",
      "└ @ Base loading.jl:1184\n",
      "┌ Info: Recompiling stale cache file /Users/cfurrer/.julia/compiled/v1.0/POMDPSimulators/i1HOp.ji for POMDPSimulators [e0d0a172-29c6-5d4e-96d0-f262df5d01fd]\n",
      "└ @ Base loading.jl:1184\n",
      "┌ Info: Recompiling stale cache file /Users/cfurrer/.julia/compiled/v1.0/POMDPModels/GHWgR.ji for POMDPModels [355abbd5-f08e-5560-ac9e-8b5f2592a0ca]\n",
      "└ @ Base loading.jl:1184\n",
      "WARNING: Method definition GridWorld(Any...) in module POMDPModels at deprecated.jl:29 overwritten at deprecated.jl:53.\n",
      "┌ Info: Loading Cairo backend into Compose.jl\n",
      "└ @ Compose /Users/cfurrer/.julia/packages/Compose/BYWXX/src/Compose.jl:161\n",
      "┌ Warning: Package Compose does not have Cairo in its dependencies:\n",
      "│ - If you have Compose checked out for development and have\n",
      "│   added Cairo as a dependency but haven't updated your primary\n",
      "│   environment's manifest file, try `Pkg.resolve()`.\n",
      "│ - Otherwise you may need to report an issue with Compose\n",
      "│ Loading Cairo into Compose from project dependency, future warnings for Compose are suppressed.\n",
      "└ @ nothing nothing:834\n",
      "┌ Info: Recompiling stale cache file /Users/cfurrer/.julia/compiled/v1.0/QMDP/vYw0A.ji for QMDP [3aa3ecc9-5a5d-57c8-8188-3e47bd8068d2]\n",
      "└ @ Base loading.jl:1184\n",
      "┌ Info: Precompiling ARDESPOT [d96c9ae4-3372-47d5-8a88-316ae77be8cf]\n",
      "└ @ Base loading.jl:1186\n"
     ]
    }
   ],
   "source": [
    "# activate project environment\n",
    "# include these lines of code in any future scripts/notebooks\n",
    "#---\n",
    "import Pkg\n",
    "if !haskey(Pkg.installed(), \"AA228FinalProject\")\n",
    "    jenv = joinpath(dirname(@__FILE__()), \"..\") # this assumes the notebook is in the same dir\n",
    "    # as the Project.toml file, which should be in top level dir of the project. \n",
    "    # Change accordingly if this is not the case.\n",
    "    Pkg.activate(jenv)\n",
    "end\n",
    "#---\n",
    "\n",
    "# import necessary packages\n",
    "using AA228FinalProject\n",
    "using POMDPs\n",
    "using POMDPPolicies\n",
    "using BeliefUpdaters\n",
    "using ParticleFilters\n",
    "using POMDPSimulators\n",
    "using Cairo\n",
    "using Gtk\n",
    "using Random\n",
    "using Printf\n",
    "using POMDPModels\n",
    "using POMDPSimulators\n",
    "using QMDP\n",
    "using ARDESPOT"
   ]
  },
  {
   "cell_type": "code",
   "execution_count": 16,
   "metadata": {},
   "outputs": [
    {
     "data": {
      "text/plain": [
       "RoombaPOMDP{Bumper,Bool}(Bumper(), RoombaMDP{ContinuousRoombaStateSpace,Array{RoombaAct,1}}\n",
       "  v_max: Float64 10.0\n",
       "  om_max: Float64 1.0\n",
       "  dt: Float64 0.5\n",
       "  contact_pen: Float64 -1.0\n",
       "  time_pen: Float64 -0.1\n",
       "  goal_reward: Float64 10.0\n",
       "  stairs_penalty: Float64 -10.0\n",
       "  config: Int64 1\n",
       "  sspace: ContinuousRoombaStateSpace ContinuousRoombaStateSpace()\n",
       "  room: AA228FinalProject.Room\n",
       "  aspace: Array{RoombaAct}((3,))\n",
       "  _amap: Dict{RoombaAct,Int64}\n",
       ")"
      ]
     },
     "execution_count": 16,
     "metadata": {},
     "output_type": "execute_result"
    }
   ],
   "source": [
    "sensor = Bumper() # or Bumper() for the bumper version of the environment\n",
    "config = 1 # 1,2, or 3\n",
    "vlist = [5.0]\n",
    "omlist = [-0.5,0,0.5]\n",
    "aspace = vec(collect(RoombaAct(v, om) for v in vlist, om in omlist))\n",
    "\n",
    "num_x_pts = 100\n",
    "num_y_pts = 100\n",
    "num_th_pts = 16\n",
    "#sspace = DiscreteRoombaStateSpace(num_x_pts,num_y_pts,num_th_pts)\n",
    "\n",
    "m = RoombaPOMDP(sensor=sensor, mdp=RoombaMDP(config=config, aspace=aspace))"
   ]
  },
  {
   "cell_type": "code",
   "execution_count": 17,
   "metadata": {},
   "outputs": [],
   "source": [
    "num_particles = 2000\n",
    "resampler = BumperResampler(num_particles)\n",
    "\n",
    "spf = SimpleParticleFilter(m, resampler)\n",
    "\n",
    "v_noise_coefficient = 2.0\n",
    "om_noise_coefficient = 0.5\n",
    "\n",
    "belief_updater = RoombaParticleFilter(spf, v_noise_coefficient, om_noise_coefficient);"
   ]
  },
  {
   "cell_type": "markdown",
   "metadata": {},
   "source": [
    "### Define an ARDESPOT Policy"
   ]
  },
  {
   "cell_type": "code",
   "execution_count": 22,
   "metadata": {},
   "outputs": [
    {
     "data": {
      "text/plain": [
       "DESPOTPlanner{RoombaPOMDP{Bumper,Bool},Tuple{Float64,Float64},MemorizingSource{MersenneTwister},MersenneTwister}(DESPOTSolver\n",
       "  epsilon_0: Float64 0.0\n",
       "  xi: Float64 0.95\n",
       "  K: Int64 500\n",
       "  D: Int64 90\n",
       "  lambda: Float64 0.01\n",
       "  T_max: Float64 1.0\n",
       "  max_trials: Int64 9223372036854775807\n",
       "  bounds: Tuple{Float64,Float64}\n",
       "  default_action: MCTS.ExceptionRethrow MCTS.ExceptionRethrow()\n",
       "  rng: MersenneTwister\n",
       "  random_source: MemorizingSource{MersenneTwister}\n",
       "  bounds_warnings: Bool true\n",
       ", RoombaPOMDP{Bumper,Bool}(Bumper(), RoombaMDP{ContinuousRoombaStateSpace,Array{RoombaAct,1}}\n",
       "  v_max: Float64 10.0\n",
       "  om_max: Float64 1.0\n",
       "  dt: Float64 0.5\n",
       "  contact_pen: Float64 -1.0\n",
       "  time_pen: Float64 -0.1\n",
       "  goal_reward: Float64 10.0\n",
       "  stairs_penalty: Float64 -10.0\n",
       "  config: Int64 1\n",
       "  sspace: ContinuousRoombaStateSpace ContinuousRoombaStateSpace()\n",
       "  room: AA228FinalProject.Room\n",
       "  aspace: Array{RoombaAct}((3,))\n",
       "  _amap: Dict{RoombaAct,Int64}\n",
       "), (-10.0, 10.0), MemorizingSource{MersenneTwister}(MersenneTwister(UInt32[0x72313526], Random.DSFMT.DSFMT_state(Int32[-230869553, 1073189664, 749777238, 1073503748, 381838401, 1073633765, -1417135934, 1072788837, 824111447, 1073686663  …  -1846008586, 1073103979, -602789825, 1072969358, 1016629509, 812566319, -1761537708, -632297862, 382, 0]), [0.0, 0.0, 0.0, 0.0, 0.0, 0.0, 0.0, 0.0, 0.0, 0.0  …  0.0, 0.0, 0.0, 0.0, 0.0, 0.0, 0.0, 0.0, 0.0, 0.0], UInt128[0x00000000000000000000000000000000, 0x00000000000000000000000000000000, 0x00000000000000000000000000000000, 0x00000000000000000000000000000000, 0x00000000000000000000000000000000, 0x00000000000000000000000000000000, 0x00000000000000000000000000000000, 0x00000000000000000000000000000000, 0x00000000000000000000000000000000, 0x00000000000000000000000000000000  …  0x00000000000000000000000000000000, 0x00000000000000000000000000000000, 0x00000000000000000000000000000000, 0x00000000000000000000000000000000, 0x00000000000000000000000000000000, 0x00000000000000000000000000000000, 0x00000000000000000000000000000000, 0x00000000000000000000000000000000, 0x00000000000000000000000000000000, 0x00000000000000000000000000000000], 1002, 0), Float64[], MemorizingRNG{MemorizingSource{MersenneTwister}}[MemorizingRNG{MemorizingSource{MersenneTwister}}(Float64[], 1, 0, 0, MemorizingSource{MersenneTwister}(#= circular reference @-2 =#)) MemorizingRNG{MemorizingSource{MersenneTwister}}(Float64[], 1, 0, 0, MemorizingSource{MersenneTwister}(#= circular reference @-2 =#)) … MemorizingRNG{MemorizingSource{MersenneTwister}}(Float64[], 1, 0, 0, MemorizingSource{MersenneTwister}(#= circular reference @-2 =#)) MemorizingRNG{MemorizingSource{MersenneTwister}}(Float64[], 1, 0, 0, MemorizingSource{MersenneTwister}(#= circular reference @-2 =#)); MemorizingRNG{MemorizingSource{MersenneTwister}}(Float64[], 1, 0, 0, MemorizingSource{MersenneTwister}(#= circular reference @-2 =#)) MemorizingRNG{MemorizingSource{MersenneTwister}}(Float64[], 1, 0, 0, MemorizingSource{MersenneTwister}(#= circular reference @-2 =#)) … MemorizingRNG{MemorizingSource{MersenneTwister}}(Float64[], 1, 0, 0, MemorizingSource{MersenneTwister}(#= circular reference @-2 =#)) MemorizingRNG{MemorizingSource{MersenneTwister}}(Float64[], 1, 0, 0, MemorizingSource{MersenneTwister}(#= circular reference @-2 =#)); … ; MemorizingRNG{MemorizingSource{MersenneTwister}}(Float64[], 1, 0, 0, MemorizingSource{MersenneTwister}(#= circular reference @-2 =#)) MemorizingRNG{MemorizingSource{MersenneTwister}}(Float64[], 1, 0, 0, MemorizingSource{MersenneTwister}(#= circular reference @-2 =#)) … MemorizingRNG{MemorizingSource{MersenneTwister}}(Float64[], 1, 0, 0, MemorizingSource{MersenneTwister}(#= circular reference @-2 =#)) MemorizingRNG{MemorizingSource{MersenneTwister}}(Float64[], 1, 0, 0, MemorizingSource{MersenneTwister}(#= circular reference @-2 =#)); MemorizingRNG{MemorizingSource{MersenneTwister}}(Float64[], 1, 0, 0, MemorizingSource{MersenneTwister}(#= circular reference @-2 =#)) MemorizingRNG{MemorizingSource{MersenneTwister}}(Float64[], 1, 0, 0, MemorizingSource{MersenneTwister}(#= circular reference @-2 =#)) … MemorizingRNG{MemorizingSource{MersenneTwister}}(Float64[], 1, 0, 0, MemorizingSource{MersenneTwister}(#= circular reference @-2 =#)) MemorizingRNG{MemorizingSource{MersenneTwister}}(Float64[], 1, 0, 0, MemorizingSource{MersenneTwister}(#= circular reference @-2 =#))], 0, 0, true, 0, true), MersenneTwister(UInt32[0x00000009], Random.DSFMT.DSFMT_state(Int32[-391237920, 1073463326, 2024122252, 1072915962, -1393809230, 1073599601, 1648368064, 1072862093, -28571745, 1073626744  …  -1312928621, 1073163812, 764235624, 1072881129, -1759196838, -261087750, 1785427995, -558169690, 382, 0]), [1.47279, 1.81251, 1.63589, 1.6603, 1.24878, 1.2408, 1.76758, 1.88771, 1.82974, 1.04211  …  1.48973, 1.72726, 1.98929, 1.34252, 1.10439, 1.49373, 1.8469, 1.27278, 1.44877, 1.17918], UInt128[0x00000000000000000000000000000000, 0x00000000000000000000000000000000, 0x00000000000000000000000000000000, 0x00000000000000000000000000000000, 0x00000000000000000000000000000000, 0x00000000000000000000000000000000, 0x00000000000000000000000000000000, 0x00000000000000000000000000000000, 0x00000000000000000000000000000000, 0x00000000000000000000000000000000  …  0x00000000000000000000000000000000, 0x00000000000000000000000000000000, 0x00000000000000000000000000000000, 0x00000000000000000000000000000000, 0x00000000000000000000000000000000, 0x00000000000000000000000000000000, 0x00000000000000000000000000000000, 0x00000000000000000000000000000000, 0x00000000000000000000000000000000, 0x00000000000000000000000000000000], 304, 0))"
      ]
     },
     "execution_count": 22,
     "metadata": {},
     "output_type": "execute_result"
    }
   ],
   "source": [
    "# initialize a solver and compute a policy\n",
    "solver = DESPOTSolver(bounds=(-10.0, 10.0))\n",
    "planner = solve(solver, m)"
   ]
  },
  {
   "cell_type": "markdown",
   "metadata": {},
   "source": [
    "### Define a policy\n",
    "\n",
    "Here we demonstrate how to define a naive policy that attempts navigate the Roomba to the goal. The heuristic policy we define here first spins around for 25 time-steps in order to perform localization, then follows a simple proprtional control law that navigates the robot in the direction of the goal state (note that this policy fails if there is a wall in the way).\n",
    "\n",
    "First we create a struct that subtypes the Policy abstract type, defined in the package ```POMDPPolicies.jl```. Here, we can also define certain parameters, such as a variable tracking the current time-step.\n",
    "\n",
    "Next, we define a function that can take in our policy and the belief state and return the desired action. We do this by defining a new ```POMDPs.action``` function that will work with our policy. "
   ]
  },
  {
   "cell_type": "code",
   "execution_count": 23,
   "metadata": {},
   "outputs": [
    {
     "name": "stdout",
     "output_type": "stream",
     "text": [
      "[15.0, 0.0]"
     ]
    }
   ],
   "source": [
    "# Define the policy to test\n",
    "mutable struct ToEnd <: Policy\n",
    "    ts::Int64 # to track the current time-step.\n",
    "end\n",
    "\n",
    "# extract goal for heuristic controller\n",
    "goal_xy = get_goal_xy(m)\n",
    "print(goal_xy)\n",
    "\n",
    "# define a new function that takes in the policy struct and current belief,\n",
    "# and returns the desired action\n",
    "function POMDPs.action(p::ToEnd, b::ParticleCollection{RoombaState})\n",
    "    p.ts += 1\n",
    "#     if length(particles(b)) == 0\n",
    "#         return action(FIBPolicy, uniform_belief(m))\n",
    "#     end\n",
    "    if AA228FinalProject.wall_contact(m,particles(b)[1])\n",
    "        return RoombaAct(3.0,-pi)\n",
    "    end\n",
    "\n",
    "    a = action(FIBPolicy, b)\n",
    "    return a\n",
    "end"
   ]
  },
  {
   "cell_type": "markdown",
   "metadata": {},
   "source": [
    "### Simulation and rendering\n",
    "\n",
    "Here, we will demonstrate how to seed the environment, run a simulation, and render the simulation. To render the simulation, we use the ```Gtk``` package. \n",
    "\n",
    "The simulation is carried out using the ```stepthrough``` function defined in the package ```POMDPSimulators.jl```. During a simulation, a window will open that renders the scene. It may be hidden behind other windows on your desktop."
   ]
  },
  {
   "cell_type": "code",
   "execution_count": 20,
   "metadata": {},
   "outputs": [
    {
     "ename": "ErrorException",
     "evalue": "If all states are terminal, lower and upper bounds should be zero (L_0=-10       , U_0=10        ). (try IndependentBounds(l, u, check_terminal=true))",
     "output_type": "error",
     "traceback": [
      "If all states are terminal, lower and upper bounds should be zero (L_0=-10       , U_0=10        ). (try IndependentBounds(l, u, check_terminal=true))",
      "",
      "Stacktrace:",
      " [1] error(::String) at ./error.jl:33",
      " [2] macro expansion at ./printf.jl:171 [inlined]",
      " [3] bounds_sanity_check(::RoombaPOMDP{Bumper,Bool}, ::ScenarioBelief{RoombaState,Bool,MemorizingSource{MersenneTwister}}, ::Float64, ::Float64) at /Users/cfurrer/.julia/packages/ARDESPOT/Xjyi4/src/bounds.jl:12",
      " [4] expand!(::ARDESPOT.DESPOT{RoombaState,RoombaAct,Bool}, ::Int64, ::DESPOTPlanner{RoombaPOMDP{Bumper,Bool},Tuple{Float64,Float64},MemorizingSource{MersenneTwister},MersenneTwister}) at /Users/cfurrer/.julia/packages/ARDESPOT/Xjyi4/src/tree.jl:103",
      " [5] explore!(::ARDESPOT.DESPOT{RoombaState,RoombaAct,Bool}, ::Int64, ::DESPOTPlanner{RoombaPOMDP{Bumper,Bool},Tuple{Float64,Float64},MemorizingSource{MersenneTwister},MersenneTwister}) at /Users/cfurrer/.julia/packages/ARDESPOT/Xjyi4/src/planner.jl:24",
      " [6] build_despot(::DESPOTPlanner{RoombaPOMDP{Bumper,Bool},Tuple{Float64,Float64},MemorizingSource{MersenneTwister},MersenneTwister}, ::ParticleCollection{RoombaState}) at /Users/cfurrer/.julia/packages/ARDESPOT/Xjyi4/src/planner.jl:10",
      " [7] action(::DESPOTPlanner{RoombaPOMDP{Bumper,Bool},Tuple{Float64,Float64},MemorizingSource{MersenneTwister},MersenneTwister}, ::ParticleCollection{RoombaState}) at /Users/cfurrer/.julia/packages/ARDESPOT/Xjyi4/src/pomdps_glue.jl:7",
      " [8] action(::ToEnd, ::ParticleCollection{RoombaState}) at ./In[19]:21",
      " [9] action_info at /Users/cfurrer/.julia/packages/POMDPModelTools/eHEjm/src/info.jl:30 [inlined]",
      " [10] iterate(::POMDPSimulators.POMDPSimIterator{(:s, :a, :r, :sp, :t, :i, :ai, :b, :o, :bp, :ui),RoombaPOMDP{Bumper,Bool},ToEnd,RoombaParticleFilter,MersenneTwister,ParticleCollection{RoombaState},RoombaState}, ::Tuple{Int64,RoombaState,ParticleCollection{RoombaState}}) at /Users/cfurrer/.julia/packages/POMDPSimulators/xyfJM/src/stepthrough.jl:102",
      " [11] iterate(::Base.Iterators.Enumerate{POMDPSimulators.POMDPSimIterator{(:s, :a, :r, :sp, :t, :i, :ai, :b, :o, :bp, :ui),RoombaPOMDP{Bumper,Bool},ToEnd,RoombaParticleFilter,MersenneTwister,ParticleCollection{RoombaState},RoombaState}}, ::Tuple{Int64,Tuple{Int64,RoombaState,ParticleCollection{RoombaState}}}) at ./iterators.jl:139",
      " [12] top-level scope at In[20]:27"
     ]
    }
   ],
   "source": [
    "# first seed the environment\n",
    "Random.seed!(9)\n",
    "\n",
    "# reset the policy\n",
    "p = ToEnd(0) # here, the argument sets the time-steps elapsed to 0\n",
    "# for (t, step) in enumerate(stepthrough(m, p, belief_updater, max_steps=100))\n",
    "#     print(\"hi\")\n",
    "# end\n",
    "# run the simulation\n",
    "c = @GtkCanvas()\n",
    "win = GtkWindow(c, \"Roomba Environment\", 600, 600)\n",
    "for (t, step) in enumerate(stepthrough(m, p, belief_updater, max_steps=100))\n",
    "    @guarded draw(c) do widget\n",
    "        \n",
    "        # the following lines render the room, the particles, and the roomba\n",
    "        ctx = getgc(c)\n",
    "        set_source_rgb(ctx,1,1,1)\n",
    "        paint(ctx)\n",
    "        render(ctx, m, step)\n",
    "        \n",
    "        # render some information that can help with debugging\n",
    "        # here, we render the time-step, the state, and the observation\n",
    "        move_to(ctx,300,400)\n",
    "        show_text(ctx, @sprintf(\"t=%d, state=%s, o=%.3f\",t,string(step.s),step.o))\n",
    "    end\n",
    "    show(c)\n",
    "    sleep(0.1) # to slow down the simulation\n",
    "end"
   ]
  },
  {
   "cell_type": "markdown",
   "metadata": {},
   "source": [
    "### Evaluation \n",
    "\n",
    "Here, we demonstate a simple evaluation of the policy's performance for a few random seeds. This is meant to serve only as an example, and we encourage you to develop your own evaluation metrics.\n",
    "\n",
    "We intialize the robot using five different random seeds, and simulate its performance for 100 time-steps. We then sum the rewards experienced during its interaction with the environment and track this total reward for the five trials.\n",
    "Finally, we report the mean and standard error for the total reward. The standard error is the standard deviation of a sample set divided by the square root of the number of samples, and represents the uncertainty in the estimate of the mean value."
   ]
  },
  {
   "cell_type": "code",
   "execution_count": 24,
   "metadata": {},
   "outputs": [
    {
     "name": "stdout",
     "output_type": "stream",
     "text": [
      "1\n"
     ]
    },
    {
     "ename": "ErrorException",
     "evalue": "If all states are terminal, lower and upper bounds should be zero (L_0=-10       , U_0=10        ). (try IndependentBounds(l, u, check_terminal=true))",
     "output_type": "error",
     "traceback": [
      "If all states are terminal, lower and upper bounds should be zero (L_0=-10       , U_0=10        ). (try IndependentBounds(l, u, check_terminal=true))",
      "",
      "Stacktrace:",
      " [1] error(::String) at ./error.jl:33",
      " [2] macro expansion at ./printf.jl:171 [inlined]",
      " [3] bounds_sanity_check(::RoombaPOMDP{Bumper,Bool}, ::ScenarioBelief{RoombaState,Bool,MemorizingSource{MersenneTwister}}, ::Float64, ::Float64) at /Users/cfurrer/.julia/packages/ARDESPOT/Xjyi4/src/bounds.jl:12",
      " [4] expand!(::ARDESPOT.DESPOT{RoombaState,RoombaAct,Bool}, ::Int64, ::DESPOTPlanner{RoombaPOMDP{Bumper,Bool},Tuple{Float64,Float64},MemorizingSource{MersenneTwister},MersenneTwister}) at /Users/cfurrer/.julia/packages/ARDESPOT/Xjyi4/src/tree.jl:103",
      " [5] explore!(::ARDESPOT.DESPOT{RoombaState,RoombaAct,Bool}, ::Int64, ::DESPOTPlanner{RoombaPOMDP{Bumper,Bool},Tuple{Float64,Float64},MemorizingSource{MersenneTwister},MersenneTwister}) at /Users/cfurrer/.julia/packages/ARDESPOT/Xjyi4/src/planner.jl:24",
      " [6] build_despot(::DESPOTPlanner{RoombaPOMDP{Bumper,Bool},Tuple{Float64,Float64},MemorizingSource{MersenneTwister},MersenneTwister}, ::ParticleCollection{RoombaState}) at /Users/cfurrer/.julia/packages/ARDESPOT/Xjyi4/src/planner.jl:10",
      " [7] action(::DESPOTPlanner{RoombaPOMDP{Bumper,Bool},Tuple{Float64,Float64},MemorizingSource{MersenneTwister},MersenneTwister}, ::ParticleCollection{RoombaState}) at /Users/cfurrer/.julia/packages/ARDESPOT/Xjyi4/src/pomdps_glue.jl:7",
      " [8] action(::ToEnd, ::ParticleCollection{RoombaState}) at ./In[23]:21",
      " [9] action_info at /Users/cfurrer/.julia/packages/POMDPModelTools/eHEjm/src/info.jl:30 [inlined]",
      " [10] iterate(::POMDPSimulators.POMDPSimIterator{(:s, :a, :r, :sp, :t, :i, :ai, :b, :o, :bp, :ui),RoombaPOMDP{Bumper,Bool},ToEnd,RoombaParticleFilter,MersenneTwister,ParticleCollection{RoombaState},RoombaState}, ::Tuple{Int64,RoombaState,ParticleCollection{RoombaState}}) at /Users/cfurrer/.julia/packages/POMDPSimulators/xyfJM/src/stepthrough.jl:102",
      " [11] top-level scope at ./In[24]:21"
     ]
    }
   ],
   "source": [
    "using Statistics\n",
    "\n",
    "total_rewards = []\n",
    "num_success = 0\n",
    "num_seeds = 100\n",
    "\n",
    "for exp = 1:num_seeds\n",
    "    println(string(exp))\n",
    "    \n",
    "    Random.seed!(exp+30)\n",
    "    #srand(exp)\n",
    "    \n",
    "    p = ToEnd(0)\n",
    "    traj_rewards = 0\n",
    "    for step in stepthrough(m,p,belief_updater, max_steps=100)\n",
    "        traj_rewards += step.r\n",
    "        if step.r > 5\n",
    "            println(\"reached goal\")\n",
    "            num_success += 1\n",
    "            push!(total_rewards, traj_rewards)\n",
    "            break\n",
    "        end\n",
    "    end\n",
    "#     traj_rewards = sum([step.r for step in stepthrough(m,p,belief_updater, max_steps=300)])\n",
    "    \n",
    "#     push!(total_rewards, traj_rewards)\n",
    "end\n",
    "\n",
    "success_rate = (num_success*1.0)/num_seeds\n",
    "mtr = mean(total_rewards)\n",
    "score = success_rate*success_rate*mtr\n",
    "@printf(\"Percent that reached goal: %.3f%%\", success_rate*100)\n",
    "println()\n",
    "@printf(\"Mean Total Reward: %.3f\", mtr)\n",
    "println()\n",
    "x = \n",
    "@printf(\"Score: %.3f\", score)"
   ]
  },
  {
   "cell_type": "code",
   "execution_count": null,
   "metadata": {},
   "outputs": [],
   "source": []
  }
 ],
 "metadata": {
  "kernelspec": {
   "display_name": "Julia 1.0.0",
   "language": "julia",
   "name": "julia-1.0"
  },
  "language_info": {
   "file_extension": ".jl",
   "mimetype": "application/julia",
   "name": "julia",
   "version": "1.0.0"
  }
 },
 "nbformat": 4,
 "nbformat_minor": 2
}
