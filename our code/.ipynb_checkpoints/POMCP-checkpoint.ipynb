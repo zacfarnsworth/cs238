{
 "cells": [
  {
   "cell_type": "code",
   "execution_count": 1,
   "metadata": {},
   "outputs": [
    {
     "name": "stderr",
     "output_type": "stream",
     "text": [
      "┌ Info: Loading Cairo backend into Compose.jl\n",
      "└ @ Compose /Users/adamthorne/.julia/packages/Compose/BYWXX/src/Compose.jl:161\n",
      "┌ Warning: Package Compose does not have Cairo in its dependencies:\n",
      "│ - If you have Compose checked out for development and have\n",
      "│   added Cairo as a dependency but haven't updated your primary\n",
      "│   environment's manifest file, try `Pkg.resolve()`.\n",
      "│ - Otherwise you may need to report an issue with Compose\n",
      "│ Loading Cairo into Compose from project dependency, future warnings for Compose are suppressed.\n",
      "└ @ nothing nothing:840\n"
     ]
    }
   ],
   "source": [
    "# activate project environment\n",
    "# include these lines of code in any future scripts/notebooks\n",
    "#---\n",
    "import Pkg\n",
    "if !haskey(Pkg.installed(), \"AA228FinalProject\")\n",
    "    jenv = joinpath(dirname(@__FILE__()), \"..\") # this assumes the notebook is in the same dir\n",
    "    # as the Project.toml file, which should be in top level dir of the project. \n",
    "    # Change accordingly if this is not the case.\n",
    "    Pkg.activate(jenv)\n",
    "end\n",
    "#---\n",
    "\n",
    "# import necessary packages\n",
    "using AA228FinalProject\n",
    "using POMDPs\n",
    "using POMDPPolicies\n",
    "using BeliefUpdaters\n",
    "using ParticleFilters\n",
    "using POMDPSimulators\n",
    "using Cairo\n",
    "using Gtk\n",
    "using Random\n",
    "using Printf\n",
    "using POMDPModels\n",
    "using POMDPSimulators\n",
    "using BasicPOMCP\n",
    "using QMDP"
   ]
  },
  {
   "cell_type": "code",
   "execution_count": 2,
   "metadata": {},
   "outputs": [
    {
     "data": {
      "text/plain": [
       "RoombaPOMDP{Bumper,Bool}(Bumper(), RoombaMDP{DiscreteRoombaStateSpace,Array{RoombaAct,1}}\n",
       "  v_max: Float64 10.0\n",
       "  om_max: Float64 1.0\n",
       "  dt: Float64 0.5\n",
       "  contact_pen: Float64 -1.0\n",
       "  time_pen: Float64 -0.1\n",
       "  goal_reward: Float64 10.0\n",
       "  stairs_penalty: Float64 -10.0\n",
       "  config: Int64 1\n",
       "  room: AA228FinalProject.Room\n",
       "  sspace: DiscreteRoombaStateSpace\n",
       "  aspace: Array{RoombaAct}((5,))\n",
       "  _amap: Dict{RoombaAct,Int64}\n",
       ")"
      ]
     },
     "execution_count": 2,
     "metadata": {},
     "output_type": "execute_result"
    }
   ],
   "source": [
    "sensor = Bumper() # or Bumper() for the bumper version of the environment\n",
    "config = 1 # 1,2, or 3\n",
    "vlist = [3.0]\n",
    "omlist = [-0.5,-0.25,0,0.25,0.5]\n",
    "aspace = vec(collect(RoombaAct(v, om) for v in vlist, om in omlist))\n",
    "\n",
    "num_x_pts = 100\n",
    "num_y_pts = 100\n",
    "num_th_pts = 20\n",
    "sspace = DiscreteRoombaStateSpace(num_x_pts,num_y_pts,num_th_pts)\n",
    "\n",
    "m = RoombaPOMDP(sensor=sensor, mdp=RoombaMDP(config=config, aspace=aspace, sspace=sspace))"
   ]
  },
  {
   "cell_type": "code",
   "execution_count": 4,
   "metadata": {},
   "outputs": [],
   "source": [
    "num_particles = 2000\n",
    "resampler = BumperResampler(num_particles)\n",
    "\n",
    "spf = SimpleParticleFilter(m, resampler)\n",
    "\n",
    "v_noise_coefficient = 2.0\n",
    "om_noise_coefficient = 0.5\n",
    "\n",
    "belief_updater = RoombaParticleFilter(spf, v_noise_coefficient, om_noise_coefficient);"
   ]
  },
  {
   "cell_type": "markdown",
   "metadata": {},
   "source": [
    "### Define a POMCP Policy"
   ]
  },
  {
   "cell_type": "code",
   "execution_count": 5,
   "metadata": {},
   "outputs": [
    {
     "data": {
      "text/plain": [
       "POMCPPlanner{RoombaPOMDP{Bumper,Bool},BasicPOMCP.SolvedPORollout{RandomPolicy{MersenneTwister,RoombaPOMDP{Bumper,Bool},NothingUpdater},NothingUpdater,MersenneTwister},MersenneTwister}(POMCPSolver\n",
       "  max_depth: Int64 20\n",
       "  c: Float64 1.0\n",
       "  tree_queries: Int64 1000\n",
       "  max_time: Float64 Inf\n",
       "  tree_in_info: Bool false\n",
       "  default_action: ExceptionRethrow ExceptionRethrow()\n",
       "  rng: MersenneTwister\n",
       "  estimate_value: RolloutEstimator\n",
       ", RoombaPOMDP{Bumper,Bool}(Bumper(), RoombaMDP{DiscreteRoombaStateSpace,Array{RoombaAct,1}}\n",
       "  v_max: Float64 10.0\n",
       "  om_max: Float64 1.0\n",
       "  dt: Float64 0.5\n",
       "  contact_pen: Float64 -1.0\n",
       "  time_pen: Float64 -0.1\n",
       "  goal_reward: Float64 10.0\n",
       "  stairs_penalty: Float64 -10.0\n",
       "  config: Int64 1\n",
       "  room: AA228FinalProject.Room\n",
       "  sspace: DiscreteRoombaStateSpace\n",
       "  aspace: Array{RoombaAct}((5,))\n",
       "  _amap: Dict{RoombaAct,Int64}\n",
       "), BasicPOMCP.SolvedPORollout{RandomPolicy{MersenneTwister,RoombaPOMDP{Bumper,Bool},NothingUpdater},NothingUpdater,MersenneTwister}(RandomPolicy{MersenneTwister,RoombaPOMDP{Bumper,Bool},NothingUpdater}(MersenneTwister(UInt32[0x3eb45249, 0x70410d05, 0xb78a7858, 0x5d6a2a0f], Random.DSFMT.DSFMT_state(Int32[1521547286, 1073518793, 1156912692, 1072871949, -1987858854, 1073449827, -1772338705, 1072831209, 1379481724, 1072956536  …  1807453338, 1072796234, -833151590, 1073152983, -1498079289, -595601538, 339347290, 999374786, 382, 0]), [1.43402, 1.80853, 1.89163, 1.42139, 1.75958, 1.95538, 1.62577, 1.86629, 1.45608, 1.78139  …  1.32439, 1.0979, 1.6079, 1.20894, 1.34618, 1.85528, 1.20137, 1.37386, 1.09822, 1.43844], UInt128[0x00000000000000000000000000000000, 0x00000000000000000000000000000000, 0x00000000000000000000000000000000, 0x00000000000000000000000000000000, 0x00000000000000000000000000000000, 0x00000000000000000000000000000000, 0x00000000000000000000000000000000, 0x00000000000000000000000000000000, 0x00000000000000000000000000000000, 0x00000000000000000000000000000000  …  0x00000000000000000000000000000000, 0x00000000000000000000000000000000, 0x00000000000000000000000000000000, 0x00000000000000000000000000000000, 0x00000000000000000000000000000000, 0x00000000000000000000000000000000, 0x00000000000000000000000000000000, 0x00000000000000000000000000000000, 0x00000000000000000000000000000000, 0x00000000000000000000000000000000], 318, 0), RoombaPOMDP{Bumper,Bool}(Bumper(), RoombaMDP{DiscreteRoombaStateSpace,Array{RoombaAct,1}}\n",
       "  v_max: Float64 10.0\n",
       "  om_max: Float64 1.0\n",
       "  dt: Float64 0.5\n",
       "  contact_pen: Float64 -1.0\n",
       "  time_pen: Float64 -0.1\n",
       "  goal_reward: Float64 10.0\n",
       "  stairs_penalty: Float64 -10.0\n",
       "  config: Int64 1\n",
       "  room: AA228FinalProject.Room\n",
       "  sspace: DiscreteRoombaStateSpace\n",
       "  aspace: Array{RoombaAct}((5,))\n",
       "  _amap: Dict{RoombaAct,Int64}\n",
       "), NothingUpdater()), NothingUpdater(), MersenneTwister(UInt32[0x3eb45249, 0x70410d05, 0xb78a7858, 0x5d6a2a0f], Random.DSFMT.DSFMT_state(Int32[1521547286, 1073518793, 1156912692, 1072871949, -1987858854, 1073449827, -1772338705, 1072831209, 1379481724, 1072956536  …  1807453338, 1072796234, -833151590, 1073152983, -1498079289, -595601538, 339347290, 999374786, 382, 0]), [1.43402, 1.80853, 1.89163, 1.42139, 1.75958, 1.95538, 1.62577, 1.86629, 1.45608, 1.78139  …  1.32439, 1.0979, 1.6079, 1.20894, 1.34618, 1.85528, 1.20137, 1.37386, 1.09822, 1.43844], UInt128[0x00000000000000000000000000000000, 0x00000000000000000000000000000000, 0x00000000000000000000000000000000, 0x00000000000000000000000000000000, 0x00000000000000000000000000000000, 0x00000000000000000000000000000000, 0x00000000000000000000000000000000, 0x00000000000000000000000000000000, 0x00000000000000000000000000000000, 0x00000000000000000000000000000000  …  0x00000000000000000000000000000000, 0x00000000000000000000000000000000, 0x00000000000000000000000000000000, 0x00000000000000000000000000000000, 0x00000000000000000000000000000000, 0x00000000000000000000000000000000, 0x00000000000000000000000000000000, 0x00000000000000000000000000000000, 0x00000000000000000000000000000000, 0x00000000000000000000000000000000], 318, 0)), MersenneTwister(UInt32[0x3eb45249, 0x70410d05, 0xb78a7858, 0x5d6a2a0f], Random.DSFMT.DSFMT_state(Int32[1521547286, 1073518793, 1156912692, 1072871949, -1987858854, 1073449827, -1772338705, 1072831209, 1379481724, 1072956536  …  1807453338, 1072796234, -833151590, 1073152983, -1498079289, -595601538, 339347290, 999374786, 382, 0]), [1.43402, 1.80853, 1.89163, 1.42139, 1.75958, 1.95538, 1.62577, 1.86629, 1.45608, 1.78139  …  1.32439, 1.0979, 1.6079, 1.20894, 1.34618, 1.85528, 1.20137, 1.37386, 1.09822, 1.43844], UInt128[0x00000000000000000000000000000000, 0x00000000000000000000000000000000, 0x00000000000000000000000000000000, 0x00000000000000000000000000000000, 0x00000000000000000000000000000000, 0x00000000000000000000000000000000, 0x00000000000000000000000000000000, 0x00000000000000000000000000000000, 0x00000000000000000000000000000000, 0x00000000000000000000000000000000  …  0x00000000000000000000000000000000, 0x00000000000000000000000000000000, 0x00000000000000000000000000000000, 0x00000000000000000000000000000000, 0x00000000000000000000000000000000, 0x00000000000000000000000000000000, 0x00000000000000000000000000000000, 0x00000000000000000000000000000000, 0x00000000000000000000000000000000, 0x00000000000000000000000000000000], 318, 0), Int64[], nothing)"
      ]
     },
     "execution_count": 5,
     "metadata": {},
     "output_type": "execute_result"
    }
   ],
   "source": [
    "# initialize a solver and compute a policy\n",
    "solver = POMCPSolver()\n",
    "planner = solve(solver, m)"
   ]
  },
  {
   "cell_type": "markdown",
   "metadata": {},
   "source": [
    "### Define a policy\n",
    "\n",
    "Here we demonstrate how to define a naive policy that attempts navigate the Roomba to the goal. The heuristic policy we define here first spins around for 25 time-steps in order to perform localization, then follows a simple proprtional control law that navigates the robot in the direction of the goal state (note that this policy fails if there is a wall in the way).\n",
    "\n",
    "First we create a struct that subtypes the Policy abstract type, defined in the package ```POMDPPolicies.jl```. Here, we can also define certain parameters, such as a variable tracking the current time-step.\n",
    "\n",
    "Next, we define a function that can take in our policy and the belief state and return the desired action. We do this by defining a new ```POMDPs.action``` function that will work with our policy. "
   ]
  },
  {
   "cell_type": "code",
   "execution_count": 6,
   "metadata": {},
   "outputs": [
    {
     "name": "stdout",
     "output_type": "stream",
     "text": [
      "[15.0, 0.0]"
     ]
    }
   ],
   "source": [
    "# Define the policy to test\n",
    "mutable struct ToEnd <: Policy\n",
    "    ts::Int64 # to track the current time-step.\n",
    "end\n",
    "\n",
    "# extract goal for heuristic controller\n",
    "goal_xy = get_goal_xy(m)\n",
    "print(goal_xy)\n",
    "\n",
    "# define a new function that takes in the policy struct and current belief,\n",
    "# and returns the desired action\n",
    "function POMDPs.action(p::ToEnd, b::ParticleCollection{RoombaState})\n",
    "    p.ts += 1\n",
    "#     if length(particles(b)) == 0\n",
    "#         return action(QMDPPolicy, uniform_belief(m))\n",
    "#     end\n",
    "    if AA228FinalProject.wall_contact(m,particles(b)[1])\n",
    "        return RoombaAct(3.0,-pi)\n",
    "    end\n",
    "\n",
    "    a = action(planner, b)\n",
    "    return a\n",
    "end"
   ]
  },
  {
   "cell_type": "markdown",
   "metadata": {},
   "source": [
    "### Simulation and rendering\n",
    "\n",
    "Here, we will demonstrate how to seed the environment, run a simulation, and render the simulation. To render the simulation, we use the ```Gtk``` package. \n",
    "\n",
    "The simulation is carried out using the ```stepthrough``` function defined in the package ```POMDPSimulators.jl```. During a simulation, a window will open that renders the scene. It may be hidden behind other windows on your desktop."
   ]
  },
  {
   "cell_type": "code",
   "execution_count": 7,
   "metadata": {},
   "outputs": [],
   "source": [
    "# first seed the environment\n",
    "Random.seed!(9)\n",
    "\n",
    "# reset the policy\n",
    "p = ToEnd(0) # here, the argument sets the time-steps elapsed to 0\n",
    "# for (t, step) in enumerate(stepthrough(m, p, belief_updater, max_steps=100))\n",
    "#     print(\"hi\")\n",
    "# end\n",
    "# run the simulation\n",
    "c = @GtkCanvas()\n",
    "win = GtkWindow(c, \"Roomba Environment\", 600, 600)\n",
    "for (t, step) in enumerate(stepthrough(m, p, belief_updater, max_steps=100))\n",
    "    @guarded draw(c) do widget\n",
    "        \n",
    "        # the following lines render the room, the particles, and the roomba\n",
    "        ctx = getgc(c)\n",
    "        set_source_rgb(ctx,1,1,1)\n",
    "        paint(ctx)\n",
    "        render(ctx, m, step)\n",
    "        \n",
    "        # render some information that can help with debugging\n",
    "        # here, we render the time-step, the state, and the observation\n",
    "        move_to(ctx,300,400)\n",
    "        show_text(ctx, @sprintf(\"t=%d, state=%s, o=%.3f\",t,string(step.s),step.o))\n",
    "    end\n",
    "    show(c)\n",
    "    sleep(0.1) # to slow down the simulation\n",
    "end"
   ]
  },
  {
   "cell_type": "markdown",
   "metadata": {},
   "source": [
    "### Evaluation \n",
    "\n",
    "Here, we demonstate a simple evaluation of the policy's performance for a few random seeds. This is meant to serve only as an example, and we encourage you to develop your own evaluation metrics.\n",
    "\n",
    "We intialize the robot using five different random seeds, and simulate its performance for 100 time-steps. We then sum the rewards experienced during its interaction with the environment and track this total reward for the five trials.\n",
    "Finally, we report the mean and standard error for the total reward. The standard error is the standard deviation of a sample set divided by the square root of the number of samples, and represents the uncertainty in the estimate of the mean value."
   ]
  },
  {
   "cell_type": "code",
   "execution_count": 7,
   "metadata": {},
   "outputs": [
    {
     "name": "stdout",
     "output_type": "stream",
     "text": [
      "1\n"
     ]
    },
    {
     "ename": "MethodError",
     "evalue": "MethodError: no method matching stateindex(::RoombaState)\nClosest candidates are:\n  stateindex(!Matched::TigerPOMDP, !Matched::Bool) at /Users/adamthorne/.julia/packages/POMDPModels/oR8C3/src/TigerPOMDPs.jl:13\n  stateindex(!Matched::BabyPOMDP, !Matched::Bool) at /Users/adamthorne/.julia/packages/POMDPModels/oR8C3/src/CryingBabies.jl:23\n  stateindex(!Matched::TMaze, !Matched::TMazeState) at /Users/adamthorne/.julia/packages/POMDPModels/oR8C3/src/TMazes.jl:214\n  ...",
     "output_type": "error",
     "traceback": [
      "MethodError: no method matching stateindex(::RoombaState)\nClosest candidates are:\n  stateindex(!Matched::TigerPOMDP, !Matched::Bool) at /Users/adamthorne/.julia/packages/POMDPModels/oR8C3/src/TigerPOMDPs.jl:13\n  stateindex(!Matched::BabyPOMDP, !Matched::Bool) at /Users/adamthorne/.julia/packages/POMDPModels/oR8C3/src/CryingBabies.jl:23\n  stateindex(!Matched::TMaze, !Matched::TMazeState) at /Users/adamthorne/.julia/packages/POMDPModels/oR8C3/src/TMazes.jl:214\n  ...",
      "",
      "Stacktrace:",
      " [1] initialstate(::RoombaPOMDP{Bumper,Bool}, ::MersenneTwister) at /Users/adamthorne/.julia/dev/AA228FinalProject/src/roomba_env.jl:210",
      " [2] rand(::MersenneTwister, ::AA228FinalProject.RoombaInitialDistribution{RoombaPOMDP{Bumper,Bool}}) at /Users/adamthorne/.julia/dev/AA228FinalProject/src/roomba_env.jl:420",
      " [3] get_initialstate(::StepSimulator, ::AA228FinalProject.RoombaInitialDistribution{RoombaPOMDP{Bumper,Bool}}) at /Users/adamthorne/.julia/packages/POMDPSimulators/xyfJM/src/history_recorder.jl:256",
      " [4] simulate(::StepSimulator, ::RoombaPOMDP{Bumper,Bool}, ::ToEnd, ::RoombaParticleFilter, ::AA228FinalProject.RoombaInitialDistribution{RoombaPOMDP{Bumper,Bool}}, ::Nothing) at /Users/adamthorne/.julia/packages/POMDPSimulators/xyfJM/src/stepthrough.jl:31",
      " [5] simulate at /Users/adamthorne/.julia/packages/POMDPSimulators/xyfJM/src/stepthrough.jl:30 [inlined]",
      " [6] simulate(::StepSimulator, ::RoombaPOMDP{Bumper,Bool}, ::ToEnd, ::RoombaParticleFilter) at /Users/adamthorne/.julia/packages/POMDPSimulators/xyfJM/src/stepthrough.jl:26",
      " [7] #stepthrough#19(::Base.Iterators.Pairs{Symbol,Int64,Tuple{Symbol},NamedTuple{(:max_steps,),Tuple{Int64}}}, ::Function, ::RoombaPOMDP{Bumper,Bool}, ::ToEnd, ::RoombaParticleFilter) at /Users/adamthorne/.julia/packages/POMDPSimulators/xyfJM/src/stepthrough.jl:222",
      " [8] (::getfield(POMDPSimulators, Symbol(\"#kw##stepthrough\")))(::NamedTuple{(:max_steps,),Tuple{Int64}}, ::typeof(stepthrough), ::RoombaPOMDP{Bumper,Bool}, ::ToEnd, ::RoombaParticleFilter) at ./none:0",
      " [9] top-level scope at ./In[7]:15"
     ]
    }
   ],
   "source": [
    "using Statistics\n",
    "\n",
    "total_rewards = []\n",
    "num_success = 0\n",
    "num_seeds = 100\n",
    "\n",
    "for exp = 1:num_seeds\n",
    "    println(string(exp))\n",
    "    \n",
    "    Random.seed!(exp+30)\n",
    "    #srand(exp)\n",
    "    \n",
    "    p = ToEnd(0)\n",
    "    traj_rewards = 0\n",
    "    for step in stepthrough(m,p,belief_updater, max_steps=100)\n",
    "        traj_rewards += step.r\n",
    "        if step.r > 5\n",
    "            println(\"reached goal\")\n",
    "            num_success += 1\n",
    "            push!(total_rewards, traj_rewards)\n",
    "            break\n",
    "        end\n",
    "    end\n",
    "#     traj_rewards = sum([step.r for step in stepthrough(m,p,belief_updater, max_steps=300)])\n",
    "    \n",
    "#     push!(total_rewards, traj_rewards)\n",
    "end\n",
    "\n",
    "success_rate = (num_success*1.0)/num_seeds\n",
    "mtr = mean(total_rewards)\n",
    "score = success_rate*success_rate*mtr\n",
    "@printf(\"Percent that reached goal: %.3f%%\", success_rate*100)\n",
    "println()\n",
    "@printf(\"Mean Total Reward: %.3f\", mtr)\n",
    "println()\n",
    "x = \n",
    "@printf(\"Score: %.3f\", score)"
   ]
  },
  {
   "cell_type": "code",
   "execution_count": null,
   "metadata": {},
   "outputs": [],
   "source": []
  }
 ],
 "metadata": {
  "kernelspec": {
   "display_name": "Julia 1.0.0",
   "language": "julia",
   "name": "julia-1.0"
  },
  "language_info": {
   "file_extension": ".jl",
   "mimetype": "application/julia",
   "name": "julia",
   "version": "1.0.2"
  }
 },
 "nbformat": 4,
 "nbformat_minor": 2
}
